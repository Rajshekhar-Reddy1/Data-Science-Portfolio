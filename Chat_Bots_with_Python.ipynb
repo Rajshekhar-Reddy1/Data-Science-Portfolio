{
  "nbformat": 4,
  "nbformat_minor": 0,
  "metadata": {
    "colab": {
      "name": "Chat-Bots with Python.ipynb",
      "version": "0.3.2",
      "provenance": [],
      "include_colab_link": true
    },
    "language_info": {
      "codemirror_mode": {
        "name": "ipython",
        "version": 3
      },
      "file_extension": ".py",
      "mimetype": "text/x-python",
      "name": "python",
      "nbconvert_exporter": "python",
      "pygments_lexer": "ipython3",
      "version": "3.6.6"
    },
    "kernelspec": {
      "name": "python3",
      "display_name": "Python 3"
    },
    "accelerator": "GPU"
  },
  "cells": [
    {
      "cell_type": "markdown",
      "metadata": {
        "id": "view-in-github",
        "colab_type": "text"
      },
      "source": [
        "<a href=\"https://colab.research.google.com/github/Shantanu9326/Data-Science-Portfolio/blob/master/Chat_Bots_with_Python.ipynb\" target=\"_parent\"><img src=\"https://colab.research.google.com/assets/colab-badge.svg\" alt=\"Open In Colab\"/></a>"
      ]
    },
    {
      "cell_type": "markdown",
      "metadata": {
        "id": "2Ql-oQTqyv2M",
        "colab_type": "text"
      },
      "source": [
        "# Question and Answer Chat Bots"
      ]
    },
    {
      "cell_type": "markdown",
      "metadata": {
        "id": "Hx8hpUGjyv2O",
        "colab_type": "text"
      },
      "source": [
        "## Loading the Data\n",
        "\n",
        "We will be working with the Babi Data Set from Facebook Research.\n",
        "\n",
        "Full Details: https://research.fb.com/downloads/babi/\n",
        "\n",
        "- Jason Weston, Antoine Bordes, Sumit Chopra, Tomas Mikolov, Alexander M. Rush,\n",
        "  \"Towards AI-Complete Question Answering: A Set of Prerequisite Toy Tasks\",\n",
        "  http://arxiv.org/abs/1502.05698\n"
      ]
    },
    {
      "cell_type": "code",
      "metadata": {
        "id": "HEvF1_W_yv2O",
        "colab_type": "code",
        "colab": {}
      },
      "source": [
        "import pickle\n",
        "import numpy as np"
      ],
      "execution_count": 0,
      "outputs": []
    },
    {
      "cell_type": "code",
      "metadata": {
        "id": "Q08KHHzLz9Dp",
        "colab_type": "code",
        "outputId": "d242b9df-dddc-4d7f-9ae3-62576870e2fb",
        "colab": {
          "base_uri": "https://localhost:8080/",
          "height": 34
        }
      },
      "source": [
        "#Running or Importing .py Files with Google Colab\n",
        "from google.colab import drive\n",
        "drive.mount('/content/drive/')"
      ],
      "execution_count": 0,
      "outputs": [
        {
          "output_type": "stream",
          "text": [
            "Drive already mounted at /content/drive/; to attempt to forcibly remount, call drive.mount(\"/content/drive/\", force_remount=True).\n"
          ],
          "name": "stdout"
        }
      ]
    },
    {
      "cell_type": "code",
      "metadata": {
        "id": "-sLRiVT5yv2Q",
        "colab_type": "code",
        "colab": {}
      },
      "source": [
        "with open(\"/content/drive/My Drive/app/train_qa.txt\", \"rb\") as fp:   # Unpickling\n",
        "    train_data =  pickle.load(fp)"
      ],
      "execution_count": 0,
      "outputs": []
    },
    {
      "cell_type": "code",
      "metadata": {
        "id": "f3MRZHMQyv2S",
        "colab_type": "code",
        "colab": {}
      },
      "source": [
        "with open(\"/content/drive/My Drive/app/test_qa.txt\", \"rb\") as fp:   # Unpickling\n",
        "    test_data =  pickle.load(fp)"
      ],
      "execution_count": 0,
      "outputs": []
    },
    {
      "cell_type": "markdown",
      "metadata": {
        "id": "Dd6eYRtIyv2U",
        "colab_type": "text"
      },
      "source": [
        "## Exploring the Format of the Data"
      ]
    },
    {
      "cell_type": "code",
      "metadata": {
        "id": "P_m2wk4Byv2U",
        "colab_type": "code",
        "outputId": "4861afcd-da32-4d12-95c4-42820aa1b364",
        "colab": {
          "base_uri": "https://localhost:8080/",
          "height": 34
        }
      },
      "source": [
        "type(test_data)"
      ],
      "execution_count": 0,
      "outputs": [
        {
          "output_type": "execute_result",
          "data": {
            "text/plain": [
              "list"
            ]
          },
          "metadata": {
            "tags": []
          },
          "execution_count": 5
        }
      ]
    },
    {
      "cell_type": "code",
      "metadata": {
        "id": "ia1HhExVyv2X",
        "colab_type": "code",
        "outputId": "f3d913cb-525b-489c-a4da-cbc51a6a0520",
        "colab": {
          "base_uri": "https://localhost:8080/",
          "height": 34
        }
      },
      "source": [
        "type(train_data)"
      ],
      "execution_count": 0,
      "outputs": [
        {
          "output_type": "execute_result",
          "data": {
            "text/plain": [
              "list"
            ]
          },
          "metadata": {
            "tags": []
          },
          "execution_count": 6
        }
      ]
    },
    {
      "cell_type": "code",
      "metadata": {
        "id": "UJ9ZA_iDyv2Z",
        "colab_type": "code",
        "outputId": "c2a2d2b0-c95a-425b-de83-461df93b1444",
        "colab": {
          "base_uri": "https://localhost:8080/",
          "height": 34
        }
      },
      "source": [
        "len(test_data)"
      ],
      "execution_count": 0,
      "outputs": [
        {
          "output_type": "execute_result",
          "data": {
            "text/plain": [
              "1000"
            ]
          },
          "metadata": {
            "tags": []
          },
          "execution_count": 7
        }
      ]
    },
    {
      "cell_type": "code",
      "metadata": {
        "id": "cqWJsAYMyv2b",
        "colab_type": "code",
        "outputId": "cdce4f90-85af-4690-8a82-dedd6784d5a3",
        "colab": {
          "base_uri": "https://localhost:8080/",
          "height": 34
        }
      },
      "source": [
        "len(train_data)"
      ],
      "execution_count": 0,
      "outputs": [
        {
          "output_type": "execute_result",
          "data": {
            "text/plain": [
              "10000"
            ]
          },
          "metadata": {
            "tags": []
          },
          "execution_count": 8
        }
      ]
    },
    {
      "cell_type": "code",
      "metadata": {
        "id": "NG1GTEnLyv2e",
        "colab_type": "code",
        "outputId": "c6dc690b-552d-4fa3-d798-ee95982bdccf",
        "colab": {
          "base_uri": "https://localhost:8080/",
          "height": 255
        }
      },
      "source": [
        "train_data[0]"
      ],
      "execution_count": 0,
      "outputs": [
        {
          "output_type": "execute_result",
          "data": {
            "text/plain": [
              "(['Mary',\n",
              "  'moved',\n",
              "  'to',\n",
              "  'the',\n",
              "  'bathroom',\n",
              "  '.',\n",
              "  'Sandra',\n",
              "  'journeyed',\n",
              "  'to',\n",
              "  'the',\n",
              "  'bedroom',\n",
              "  '.'],\n",
              " ['Is', 'Sandra', 'in', 'the', 'hallway', '?'],\n",
              " 'no')"
            ]
          },
          "metadata": {
            "tags": []
          },
          "execution_count": 9
        }
      ]
    },
    {
      "cell_type": "code",
      "metadata": {
        "id": "Fx7ot-HAyv2g",
        "colab_type": "code",
        "outputId": "00930d87-1dfb-4dd4-bc61-084456308ffe",
        "colab": {
          "base_uri": "https://localhost:8080/",
          "height": 34
        }
      },
      "source": [
        "' '.join(train_data[0][0])"
      ],
      "execution_count": 0,
      "outputs": [
        {
          "output_type": "execute_result",
          "data": {
            "text/plain": [
              "'Mary moved to the bathroom . Sandra journeyed to the bedroom .'"
            ]
          },
          "metadata": {
            "tags": []
          },
          "execution_count": 10
        }
      ]
    },
    {
      "cell_type": "code",
      "metadata": {
        "id": "6v2GmUhzyv2i",
        "colab_type": "code",
        "outputId": "4044f324-e530-413e-b1a1-96b6ed3d8a41",
        "colab": {
          "base_uri": "https://localhost:8080/",
          "height": 34
        }
      },
      "source": [
        "' '.join(train_data[0][1])"
      ],
      "execution_count": 0,
      "outputs": [
        {
          "output_type": "execute_result",
          "data": {
            "text/plain": [
              "'Is Sandra in the hallway ?'"
            ]
          },
          "metadata": {
            "tags": []
          },
          "execution_count": 11
        }
      ]
    },
    {
      "cell_type": "code",
      "metadata": {
        "id": "mmutvixhyv2k",
        "colab_type": "code",
        "outputId": "545f9f86-3472-4f07-c446-c023ab4975cd",
        "colab": {
          "base_uri": "https://localhost:8080/",
          "height": 34
        }
      },
      "source": [
        "train_data[0][2]"
      ],
      "execution_count": 0,
      "outputs": [
        {
          "output_type": "execute_result",
          "data": {
            "text/plain": [
              "'no'"
            ]
          },
          "metadata": {
            "tags": []
          },
          "execution_count": 12
        }
      ]
    },
    {
      "cell_type": "markdown",
      "metadata": {
        "id": "Gr-9KS-byv2m",
        "colab_type": "text"
      },
      "source": [
        "## Setting up Vocabulary of All Words"
      ]
    },
    {
      "cell_type": "code",
      "metadata": {
        "id": "LLA97DROyv2n",
        "colab_type": "code",
        "colab": {}
      },
      "source": [
        "# Create a set that holds the vocab words\n",
        "vocab = set()"
      ],
      "execution_count": 0,
      "outputs": []
    },
    {
      "cell_type": "code",
      "metadata": {
        "id": "GEOphpvAyv2p",
        "colab_type": "code",
        "colab": {}
      },
      "source": [
        "all_data = test_data + train_data"
      ],
      "execution_count": 0,
      "outputs": []
    },
    {
      "cell_type": "code",
      "metadata": {
        "id": "gJGAJKZoyv2r",
        "colab_type": "code",
        "colab": {}
      },
      "source": [
        "for story, question , answer in all_data:\n",
        "    # In case you don't know what a union of sets is:\n",
        "    # https://www.programiz.com/python-programming/methods/set/union\n",
        "    vocab = vocab.union(set(story))\n",
        "    vocab = vocab.union(set(question))"
      ],
      "execution_count": 0,
      "outputs": []
    },
    {
      "cell_type": "code",
      "metadata": {
        "id": "85sLPLfLyv2u",
        "colab_type": "code",
        "colab": {}
      },
      "source": [
        "vocab.add('no')\n",
        "vocab.add('yes')"
      ],
      "execution_count": 0,
      "outputs": []
    },
    {
      "cell_type": "code",
      "metadata": {
        "id": "BhqcEUiByv2v",
        "colab_type": "code",
        "outputId": "4a3d2b02-5951-4b25-e7fe-ef9a19489688",
        "colab": {
          "base_uri": "https://localhost:8080/",
          "height": 646
        }
      },
      "source": [
        "vocab"
      ],
      "execution_count": 0,
      "outputs": [
        {
          "output_type": "execute_result",
          "data": {
            "text/plain": [
              "{'.',\n",
              " '?',\n",
              " 'Daniel',\n",
              " 'Is',\n",
              " 'John',\n",
              " 'Mary',\n",
              " 'Sandra',\n",
              " 'apple',\n",
              " 'back',\n",
              " 'bathroom',\n",
              " 'bedroom',\n",
              " 'discarded',\n",
              " 'down',\n",
              " 'dropped',\n",
              " 'football',\n",
              " 'garden',\n",
              " 'got',\n",
              " 'grabbed',\n",
              " 'hallway',\n",
              " 'in',\n",
              " 'journeyed',\n",
              " 'kitchen',\n",
              " 'left',\n",
              " 'milk',\n",
              " 'moved',\n",
              " 'no',\n",
              " 'office',\n",
              " 'picked',\n",
              " 'put',\n",
              " 'the',\n",
              " 'there',\n",
              " 'to',\n",
              " 'took',\n",
              " 'travelled',\n",
              " 'up',\n",
              " 'went',\n",
              " 'yes'}"
            ]
          },
          "metadata": {
            "tags": []
          },
          "execution_count": 17
        }
      ]
    },
    {
      "cell_type": "code",
      "metadata": {
        "id": "Hj7mZ-Xxyv2y",
        "colab_type": "code",
        "colab": {}
      },
      "source": [
        "vocab_len = len(vocab) + 1 #we add an extra space to hold a 0 for Keras's pad_sequences"
      ],
      "execution_count": 0,
      "outputs": []
    },
    {
      "cell_type": "code",
      "metadata": {
        "id": "Re_dbSNIyv20",
        "colab_type": "code",
        "colab": {}
      },
      "source": [
        "max_story_len = max([len(data[0]) for data in all_data])"
      ],
      "execution_count": 0,
      "outputs": []
    },
    {
      "cell_type": "code",
      "metadata": {
        "id": "TkUlwcVFyv22",
        "colab_type": "code",
        "outputId": "dfbd9165-51f8-4707-f323-06f9c8c89ad8",
        "colab": {
          "base_uri": "https://localhost:8080/",
          "height": 34
        }
      },
      "source": [
        "max_story_len"
      ],
      "execution_count": 0,
      "outputs": [
        {
          "output_type": "execute_result",
          "data": {
            "text/plain": [
              "156"
            ]
          },
          "metadata": {
            "tags": []
          },
          "execution_count": 20
        }
      ]
    },
    {
      "cell_type": "code",
      "metadata": {
        "id": "1i6WQXWxyv24",
        "colab_type": "code",
        "colab": {}
      },
      "source": [
        "max_question_len = max([len(data[1]) for data in all_data])"
      ],
      "execution_count": 0,
      "outputs": []
    },
    {
      "cell_type": "code",
      "metadata": {
        "id": "X-9X0QBlyv26",
        "colab_type": "code",
        "outputId": "8c97d6cf-708f-4fa8-81ab-45aa0d99cc95",
        "colab": {
          "base_uri": "https://localhost:8080/",
          "height": 34
        }
      },
      "source": [
        "max_question_len"
      ],
      "execution_count": 0,
      "outputs": [
        {
          "output_type": "execute_result",
          "data": {
            "text/plain": [
              "6"
            ]
          },
          "metadata": {
            "tags": []
          },
          "execution_count": 22
        }
      ]
    },
    {
      "cell_type": "markdown",
      "metadata": {
        "id": "nDytkkBbyv28",
        "colab_type": "text"
      },
      "source": [
        "## Vectorizing the Data"
      ]
    },
    {
      "cell_type": "code",
      "metadata": {
        "id": "sTOjjDkRyv2-",
        "colab_type": "code",
        "outputId": "d5beb826-df2a-4a8a-c4f7-c033f0a8c39a",
        "colab": {
          "base_uri": "https://localhost:8080/",
          "height": 646
        }
      },
      "source": [
        "vocab"
      ],
      "execution_count": 0,
      "outputs": [
        {
          "output_type": "execute_result",
          "data": {
            "text/plain": [
              "{'.',\n",
              " '?',\n",
              " 'Daniel',\n",
              " 'Is',\n",
              " 'John',\n",
              " 'Mary',\n",
              " 'Sandra',\n",
              " 'apple',\n",
              " 'back',\n",
              " 'bathroom',\n",
              " 'bedroom',\n",
              " 'discarded',\n",
              " 'down',\n",
              " 'dropped',\n",
              " 'football',\n",
              " 'garden',\n",
              " 'got',\n",
              " 'grabbed',\n",
              " 'hallway',\n",
              " 'in',\n",
              " 'journeyed',\n",
              " 'kitchen',\n",
              " 'left',\n",
              " 'milk',\n",
              " 'moved',\n",
              " 'no',\n",
              " 'office',\n",
              " 'picked',\n",
              " 'put',\n",
              " 'the',\n",
              " 'there',\n",
              " 'to',\n",
              " 'took',\n",
              " 'travelled',\n",
              " 'up',\n",
              " 'went',\n",
              " 'yes'}"
            ]
          },
          "metadata": {
            "tags": []
          },
          "execution_count": 23
        }
      ]
    },
    {
      "cell_type": "code",
      "metadata": {
        "id": "XZtHsfLoyv3A",
        "colab_type": "code",
        "colab": {}
      },
      "source": [
        "# Reserve 0 for pad_sequences\n",
        "vocab_size = len(vocab) + 1"
      ],
      "execution_count": 0,
      "outputs": []
    },
    {
      "cell_type": "markdown",
      "metadata": {
        "id": "onaB1jvWyv3B",
        "colab_type": "text"
      },
      "source": [
        "-----------"
      ]
    },
    {
      "cell_type": "code",
      "metadata": {
        "id": "fz6C-_V1yv3C",
        "colab_type": "code",
        "outputId": "2c4f2785-a0d7-46b1-9a31-99fe6975b866",
        "colab": {
          "base_uri": "https://localhost:8080/",
          "height": 34
        }
      },
      "source": [
        "from keras.preprocessing.sequence import pad_sequences\n",
        "from keras.preprocessing.text import Tokenizer"
      ],
      "execution_count": 0,
      "outputs": [
        {
          "output_type": "stream",
          "text": [
            "Using TensorFlow backend.\n"
          ],
          "name": "stderr"
        }
      ]
    },
    {
      "cell_type": "code",
      "metadata": {
        "id": "FQGxgLI-yv3D",
        "colab_type": "code",
        "colab": {}
      },
      "source": [
        "# integer encode sequences of words\n",
        "tokenizer = Tokenizer(filters=[])\n",
        "tokenizer.fit_on_texts(vocab)"
      ],
      "execution_count": 0,
      "outputs": []
    },
    {
      "cell_type": "code",
      "metadata": {
        "id": "grqLthrTyv3F",
        "colab_type": "code",
        "outputId": "a84dfcbc-5c53-4518-8447-fb696b6e7dfa",
        "colab": {
          "base_uri": "https://localhost:8080/",
          "height": 646
        }
      },
      "source": [
        "tokenizer.word_index"
      ],
      "execution_count": 0,
      "outputs": [
        {
          "output_type": "execute_result",
          "data": {
            "text/plain": [
              "{'.': 10,\n",
              " '?': 28,\n",
              " 'apple': 21,\n",
              " 'back': 1,\n",
              " 'bathroom': 8,\n",
              " 'bedroom': 19,\n",
              " 'daniel': 31,\n",
              " 'discarded': 17,\n",
              " 'down': 27,\n",
              " 'dropped': 16,\n",
              " 'football': 15,\n",
              " 'garden': 2,\n",
              " 'got': 18,\n",
              " 'grabbed': 9,\n",
              " 'hallway': 14,\n",
              " 'in': 5,\n",
              " 'is': 4,\n",
              " 'john': 26,\n",
              " 'journeyed': 25,\n",
              " 'kitchen': 20,\n",
              " 'left': 12,\n",
              " 'mary': 11,\n",
              " 'milk': 6,\n",
              " 'moved': 36,\n",
              " 'no': 23,\n",
              " 'office': 32,\n",
              " 'picked': 13,\n",
              " 'put': 30,\n",
              " 'sandra': 33,\n",
              " 'the': 37,\n",
              " 'there': 22,\n",
              " 'to': 24,\n",
              " 'took': 35,\n",
              " 'travelled': 7,\n",
              " 'up': 34,\n",
              " 'went': 3,\n",
              " 'yes': 29}"
            ]
          },
          "metadata": {
            "tags": []
          },
          "execution_count": 27
        }
      ]
    },
    {
      "cell_type": "code",
      "metadata": {
        "id": "MBkntUOcyv3H",
        "colab_type": "code",
        "colab": {}
      },
      "source": [
        "train_story_text = []\n",
        "train_question_text = []\n",
        "train_answers = []\n",
        "\n",
        "for story,question,answer in train_data:\n",
        "    train_story_text.append(story)\n",
        "    train_question_text.append(question)"
      ],
      "execution_count": 0,
      "outputs": []
    },
    {
      "cell_type": "code",
      "metadata": {
        "id": "R5N1hN79yv3I",
        "colab_type": "code",
        "colab": {}
      },
      "source": [
        "train_story_seq = tokenizer.texts_to_sequences(train_story_text)"
      ],
      "execution_count": 0,
      "outputs": []
    },
    {
      "cell_type": "code",
      "metadata": {
        "id": "WN6sp2ZXyv3J",
        "colab_type": "code",
        "outputId": "45f4d4d0-4d16-4374-9847-21a3603d2ea7",
        "colab": {
          "base_uri": "https://localhost:8080/",
          "height": 34
        }
      },
      "source": [
        "len(train_story_text)"
      ],
      "execution_count": 0,
      "outputs": [
        {
          "output_type": "execute_result",
          "data": {
            "text/plain": [
              "10000"
            ]
          },
          "metadata": {
            "tags": []
          },
          "execution_count": 30
        }
      ]
    },
    {
      "cell_type": "code",
      "metadata": {
        "id": "R6aUifLuyv3L",
        "colab_type": "code",
        "outputId": "1b6d68cc-b482-445d-854f-68d54f10fc70",
        "colab": {
          "base_uri": "https://localhost:8080/",
          "height": 34
        }
      },
      "source": [
        "len(train_story_seq)"
      ],
      "execution_count": 0,
      "outputs": [
        {
          "output_type": "execute_result",
          "data": {
            "text/plain": [
              "10000"
            ]
          },
          "metadata": {
            "tags": []
          },
          "execution_count": 31
        }
      ]
    },
    {
      "cell_type": "code",
      "metadata": {
        "id": "k6S2uQ5Hyv3M",
        "colab_type": "code",
        "colab": {}
      },
      "source": [
        "# word_index = tokenizer.word_index"
      ],
      "execution_count": 0,
      "outputs": []
    },
    {
      "cell_type": "markdown",
      "metadata": {
        "id": "MqFGlGJKyv3N",
        "colab_type": "text"
      },
      "source": [
        "### Functionalize Vectorization"
      ]
    },
    {
      "cell_type": "code",
      "metadata": {
        "id": "z_rTff3jyv3O",
        "colab_type": "code",
        "colab": {}
      },
      "source": [
        "def vectorize_stories(data, word_index=tokenizer.word_index, max_story_len=max_story_len,max_question_len=max_question_len):\n",
        "    '''\n",
        "    INPUT: \n",
        "    \n",
        "    data: consisting of Stories,Queries,and Answers\n",
        "    word_index: word index dictionary from tokenizer\n",
        "    max_story_len: the length of the longest story (used for pad_sequences function)\n",
        "    max_question_len: length of the longest question (used for pad_sequences function)\n",
        "\n",
        "\n",
        "    OUTPUT:\n",
        "    \n",
        "    Vectorizes the stories,questions, and answers into padded sequences. We first loop for every story, query , and\n",
        "    answer in the data. Then we convert the raw words to an word index value. Then we append each set to their appropriate\n",
        "    output list. Then once we have converted the words to numbers, we pad the sequences so they are all of equal length.\n",
        "    \n",
        "    Returns this in the form of a tuple (X,Xq,Y) (padded based on max lengths)\n",
        "    '''\n",
        "    \n",
        "    \n",
        "    # X = STORIES\n",
        "    X = []\n",
        "    # Xq = QUERY/QUESTION\n",
        "    Xq = []\n",
        "    # Y = CORRECT ANSWER\n",
        "    Y = []\n",
        "    \n",
        "    \n",
        "    for story, query, answer in data:\n",
        "        \n",
        "        # Grab the word index for every word in story\n",
        "        x = [word_index[word.lower()] for word in story]\n",
        "        # Grab the word index for every word in query\n",
        "        xq = [word_index[word.lower()] for word in query]\n",
        "        \n",
        "        # Grab the Answers (either Yes/No so we don't need to use list comprehension here)\n",
        "        # Index 0 is reserved so we're going to use + 1\n",
        "        y = np.zeros(len(word_index) + 1)\n",
        "        \n",
        "        # Now that y is all zeros and we know its just Yes/No , we can use numpy logic to create this assignment\n",
        "        #\n",
        "        y[word_index[answer]] = 1\n",
        "        \n",
        "        # Append each set of story,query, and answer to their respective holding lists\n",
        "        X.append(x)\n",
        "        Xq.append(xq)\n",
        "        Y.append(y)\n",
        "        \n",
        "    # Finally, pad the sequences based on their max length so the RNN can be trained on uniformly long sequences.\n",
        "        \n",
        "    # RETURN TUPLE FOR UNPACKING\n",
        "    return (pad_sequences(X, maxlen=max_story_len),pad_sequences(Xq, maxlen=max_question_len), np.array(Y))"
      ],
      "execution_count": 0,
      "outputs": []
    },
    {
      "cell_type": "code",
      "metadata": {
        "id": "LbzPaK6wyv3P",
        "colab_type": "code",
        "colab": {}
      },
      "source": [
        "inputs_train, queries_train, answers_train = vectorize_stories(train_data)"
      ],
      "execution_count": 0,
      "outputs": []
    },
    {
      "cell_type": "code",
      "metadata": {
        "id": "rAQmgpfqyv3Q",
        "colab_type": "code",
        "colab": {}
      },
      "source": [
        "inputs_test, queries_test, answers_test = vectorize_stories(test_data)"
      ],
      "execution_count": 0,
      "outputs": []
    },
    {
      "cell_type": "code",
      "metadata": {
        "id": "XJOKt5aNyv3S",
        "colab_type": "code",
        "outputId": "b73c71bf-c39e-4182-cd4e-520090fcae39",
        "colab": {
          "base_uri": "https://localhost:8080/",
          "height": 136
        }
      },
      "source": [
        "inputs_test"
      ],
      "execution_count": 0,
      "outputs": [
        {
          "output_type": "execute_result",
          "data": {
            "text/plain": [
              "array([[ 0,  0,  0, ..., 37, 19, 10],\n",
              "       [ 0,  0,  0, ..., 37,  2, 10],\n",
              "       [ 0,  0,  0, ..., 37,  2, 10],\n",
              "       ...,\n",
              "       [ 0,  0,  0, ..., 37, 21, 10],\n",
              "       [ 0,  0,  0, ..., 37,  2, 10],\n",
              "       [ 0,  0,  0, ..., 21, 22, 10]], dtype=int32)"
            ]
          },
          "metadata": {
            "tags": []
          },
          "execution_count": 36
        }
      ]
    },
    {
      "cell_type": "code",
      "metadata": {
        "id": "NCh3Vp0jyv3T",
        "colab_type": "code",
        "outputId": "d3590d1a-d84e-46c1-ee86-da21dc925085",
        "colab": {
          "base_uri": "https://localhost:8080/",
          "height": 136
        }
      },
      "source": [
        "queries_test"
      ],
      "execution_count": 0,
      "outputs": [
        {
          "output_type": "execute_result",
          "data": {
            "text/plain": [
              "array([[ 4, 26,  5, 37, 20, 28],\n",
              "       [ 4, 26,  5, 37, 20, 28],\n",
              "       [ 4, 26,  5, 37,  2, 28],\n",
              "       ...,\n",
              "       [ 4, 11,  5, 37, 19, 28],\n",
              "       [ 4, 33,  5, 37,  2, 28],\n",
              "       [ 4, 11,  5, 37,  2, 28]], dtype=int32)"
            ]
          },
          "metadata": {
            "tags": []
          },
          "execution_count": 37
        }
      ]
    },
    {
      "cell_type": "code",
      "metadata": {
        "id": "8V_MLjAzyv3W",
        "colab_type": "code",
        "outputId": "e163a62c-0176-4fb5-f8ae-399db218561f",
        "colab": {
          "base_uri": "https://localhost:8080/",
          "height": 136
        }
      },
      "source": [
        "answers_test"
      ],
      "execution_count": 0,
      "outputs": [
        {
          "output_type": "execute_result",
          "data": {
            "text/plain": [
              "array([[0., 0., 0., ..., 0., 0., 0.],\n",
              "       [0., 0., 0., ..., 0., 0., 0.],\n",
              "       [0., 0., 0., ..., 0., 0., 0.],\n",
              "       ...,\n",
              "       [0., 0., 0., ..., 0., 0., 0.],\n",
              "       [0., 0., 0., ..., 0., 0., 0.],\n",
              "       [0., 0., 0., ..., 0., 0., 0.]])"
            ]
          },
          "metadata": {
            "tags": []
          },
          "execution_count": 38
        }
      ]
    },
    {
      "cell_type": "code",
      "metadata": {
        "id": "-KhwXD7pyv3Z",
        "colab_type": "code",
        "outputId": "bbb62280-564d-4a79-bcf5-5cf0806150a9",
        "colab": {
          "base_uri": "https://localhost:8080/",
          "height": 85
        }
      },
      "source": [
        "sum(answers_test)"
      ],
      "execution_count": 0,
      "outputs": [
        {
          "output_type": "execute_result",
          "data": {
            "text/plain": [
              "array([  0.,   0.,   0.,   0.,   0.,   0.,   0.,   0.,   0.,   0.,   0.,\n",
              "         0.,   0.,   0.,   0.,   0.,   0.,   0.,   0.,   0.,   0.,   0.,\n",
              "         0., 503.,   0.,   0.,   0.,   0.,   0., 497.,   0.,   0.,   0.,\n",
              "         0.,   0.,   0.,   0.,   0.])"
            ]
          },
          "metadata": {
            "tags": []
          },
          "execution_count": 39
        }
      ]
    },
    {
      "cell_type": "code",
      "metadata": {
        "id": "9UGvFGmOyv3b",
        "colab_type": "code",
        "outputId": "33b57a4a-02c8-49f9-c792-a58a0833e105",
        "colab": {
          "base_uri": "https://localhost:8080/",
          "height": 34
        }
      },
      "source": [
        "tokenizer.word_index['yes']"
      ],
      "execution_count": 0,
      "outputs": [
        {
          "output_type": "execute_result",
          "data": {
            "text/plain": [
              "29"
            ]
          },
          "metadata": {
            "tags": []
          },
          "execution_count": 40
        }
      ]
    },
    {
      "cell_type": "code",
      "metadata": {
        "id": "zYWrXTHNyv3d",
        "colab_type": "code",
        "outputId": "d0783a64-7fe7-4d49-fb45-37859c7b207b",
        "colab": {
          "base_uri": "https://localhost:8080/",
          "height": 34
        }
      },
      "source": [
        "tokenizer.word_index['no']"
      ],
      "execution_count": 0,
      "outputs": [
        {
          "output_type": "execute_result",
          "data": {
            "text/plain": [
              "23"
            ]
          },
          "metadata": {
            "tags": []
          },
          "execution_count": 41
        }
      ]
    },
    {
      "cell_type": "markdown",
      "metadata": {
        "id": "YxDuSaJ2yv3i",
        "colab_type": "text"
      },
      "source": [
        "## Creating the Model"
      ]
    },
    {
      "cell_type": "code",
      "metadata": {
        "id": "JnKjO3Zkyv3i",
        "colab_type": "code",
        "colab": {}
      },
      "source": [
        "from keras.models import Sequential, Model\n",
        "from keras.layers.embeddings import Embedding\n",
        "from keras.layers import Input, Activation, Dense, Permute, Dropout\n",
        "from keras.layers import add, dot, concatenate\n",
        "from keras.layers import LSTM"
      ],
      "execution_count": 0,
      "outputs": []
    },
    {
      "cell_type": "markdown",
      "metadata": {
        "id": "rT_f2Bm4yv3j",
        "colab_type": "text"
      },
      "source": [
        "### Placeholders for Inputs\n",
        "\n",
        "Recall we technically have two inputs, stories and questions. So we need to use placeholders. `Input()` is used to instantiate a Keras tensor.\n"
      ]
    },
    {
      "cell_type": "code",
      "metadata": {
        "id": "SSbTbxVryv3l",
        "colab_type": "code",
        "outputId": "dbd83dde-9ae0-4e7e-f7fe-a27439925f70",
        "colab": {
          "base_uri": "https://localhost:8080/",
          "height": 122
        }
      },
      "source": [
        "input_sequence = Input((max_story_len,))\n",
        "question = Input((max_question_len,))"
      ],
      "execution_count": 0,
      "outputs": [
        {
          "output_type": "stream",
          "text": [
            "WARNING: Logging before flag parsing goes to stderr.\n",
            "W0708 09:02:08.007291 140635252377472 deprecation_wrapper.py:119] From /usr/local/lib/python3.6/dist-packages/keras/backend/tensorflow_backend.py:74: The name tf.get_default_graph is deprecated. Please use tf.compat.v1.get_default_graph instead.\n",
            "\n",
            "W0708 09:02:08.054225 140635252377472 deprecation_wrapper.py:119] From /usr/local/lib/python3.6/dist-packages/keras/backend/tensorflow_backend.py:517: The name tf.placeholder is deprecated. Please use tf.compat.v1.placeholder instead.\n",
            "\n"
          ],
          "name": "stderr"
        }
      ]
    },
    {
      "cell_type": "markdown",
      "metadata": {
        "collapsed": true,
        "id": "IDXbDczJyv3m",
        "colab_type": "text"
      },
      "source": [
        "### Building the Networks\n",
        "\n",
        "To understand why we chose this setup, make sure to read the paper we are using:\n",
        "\n",
        "* Sainbayar Sukhbaatar, Arthur Szlam, Jason Weston, Rob Fergus,\n",
        "  \"End-To-End Memory Networks\",\n",
        "  http://arxiv.org/abs/1503.08895"
      ]
    },
    {
      "cell_type": "markdown",
      "metadata": {
        "id": "425fWKPMyv3m",
        "colab_type": "text"
      },
      "source": [
        "## Encoders\n",
        "\n",
        "### Input Encoder m"
      ]
    },
    {
      "cell_type": "code",
      "metadata": {
        "id": "Avs0gHh1yv3n",
        "colab_type": "code",
        "outputId": "7c80d6dd-a195-402f-e27c-7834c301b514",
        "colab": {
          "base_uri": "https://localhost:8080/",
          "height": 156
        }
      },
      "source": [
        "# Input gets embedded to a sequence of vectors\n",
        "input_encoder_m = Sequential()\n",
        "input_encoder_m.add(Embedding(input_dim=vocab_size,output_dim=64))\n",
        "input_encoder_m.add(Dropout(0.3))\n",
        "\n",
        "# This encoder will output:\n",
        "# (samples, story_maxlen, embedding_dim)"
      ],
      "execution_count": 0,
      "outputs": [
        {
          "output_type": "stream",
          "text": [
            "W0708 09:02:08.072836 140635252377472 deprecation_wrapper.py:119] From /usr/local/lib/python3.6/dist-packages/keras/backend/tensorflow_backend.py:4138: The name tf.random_uniform is deprecated. Please use tf.random.uniform instead.\n",
            "\n",
            "W0708 09:02:08.088219 140635252377472 deprecation_wrapper.py:119] From /usr/local/lib/python3.6/dist-packages/keras/backend/tensorflow_backend.py:133: The name tf.placeholder_with_default is deprecated. Please use tf.compat.v1.placeholder_with_default instead.\n",
            "\n",
            "W0708 09:02:08.096866 140635252377472 deprecation.py:506] From /usr/local/lib/python3.6/dist-packages/keras/backend/tensorflow_backend.py:3445: calling dropout (from tensorflow.python.ops.nn_ops) with keep_prob is deprecated and will be removed in a future version.\n",
            "Instructions for updating:\n",
            "Please use `rate` instead of `keep_prob`. Rate should be set to `rate = 1 - keep_prob`.\n"
          ],
          "name": "stderr"
        }
      ]
    },
    {
      "cell_type": "markdown",
      "metadata": {
        "id": "BgXupFBPyv3o",
        "colab_type": "text"
      },
      "source": [
        "### Input Encoder c"
      ]
    },
    {
      "cell_type": "code",
      "metadata": {
        "id": "NTnIZ5b4yv3q",
        "colab_type": "code",
        "colab": {}
      },
      "source": [
        "# embed the input into a sequence of vectors of size query_maxlen\n",
        "input_encoder_c = Sequential()\n",
        "input_encoder_c.add(Embedding(input_dim=vocab_size,output_dim=max_question_len))\n",
        "input_encoder_c.add(Dropout(0.3))\n",
        "# output: (samples, story_maxlen, query_maxlen)"
      ],
      "execution_count": 0,
      "outputs": []
    },
    {
      "cell_type": "markdown",
      "metadata": {
        "id": "8kZb1fq6yv3s",
        "colab_type": "text"
      },
      "source": [
        "### Question Encoder"
      ]
    },
    {
      "cell_type": "code",
      "metadata": {
        "id": "q6umyvm0yv3s",
        "colab_type": "code",
        "colab": {}
      },
      "source": [
        "# embed the question into a sequence of vectors\n",
        "question_encoder = Sequential()\n",
        "question_encoder.add(Embedding(input_dim=vocab_size,\n",
        "                               output_dim=64,\n",
        "                               input_length=max_question_len))\n",
        "question_encoder.add(Dropout(0.3))\n",
        "# output: (samples, query_maxlen, embedding_dim)"
      ],
      "execution_count": 0,
      "outputs": []
    },
    {
      "cell_type": "markdown",
      "metadata": {
        "id": "Y0Ae5Odtyv3u",
        "colab_type": "text"
      },
      "source": [
        "### Encode the Sequences"
      ]
    },
    {
      "cell_type": "code",
      "metadata": {
        "id": "1wphLY7fyv3v",
        "colab_type": "code",
        "colab": {}
      },
      "source": [
        "# encode input sequence and questions (which are indices)\n",
        "# to sequences of dense vectors\n",
        "input_encoded_m = input_encoder_m(input_sequence)\n",
        "input_encoded_c = input_encoder_c(input_sequence)\n",
        "question_encoded = question_encoder(question)"
      ],
      "execution_count": 0,
      "outputs": []
    },
    {
      "cell_type": "markdown",
      "metadata": {
        "id": "Kaf2dv3Ryv3w",
        "colab_type": "text"
      },
      "source": [
        "##### Use dot product to compute the match between first input vector seq and the query"
      ]
    },
    {
      "cell_type": "code",
      "metadata": {
        "id": "MBuyXRJVyv3x",
        "colab_type": "code",
        "colab": {}
      },
      "source": [
        "# shape: `(samples, story_maxlen, query_maxlen)`\n",
        "match = dot([input_encoded_m, question_encoded], axes=(2, 2))\n",
        "match = Activation('softmax')(match)"
      ],
      "execution_count": 0,
      "outputs": []
    },
    {
      "cell_type": "markdown",
      "metadata": {
        "id": "zGy88CFKyv3y",
        "colab_type": "text"
      },
      "source": [
        "#### Add this match matrix with the second input vector sequence"
      ]
    },
    {
      "cell_type": "code",
      "metadata": {
        "id": "E71vIqXDyv3y",
        "colab_type": "code",
        "colab": {}
      },
      "source": [
        "# add the match matrix with the second input vector sequence\n",
        "response = add([match, input_encoded_c])  # (samples, story_maxlen, query_maxlen)\n",
        "response = Permute((2, 1))(response)  # (samples, query_maxlen, story_maxlen)"
      ],
      "execution_count": 0,
      "outputs": []
    },
    {
      "cell_type": "markdown",
      "metadata": {
        "id": "g_RgHpAfyv3z",
        "colab_type": "text"
      },
      "source": [
        "#### Concatenate"
      ]
    },
    {
      "cell_type": "code",
      "metadata": {
        "id": "Qj_6TVHayv3z",
        "colab_type": "code",
        "colab": {}
      },
      "source": [
        "# concatenate the match matrix with the question vector sequence\n",
        "answer = concatenate([response, question_encoded])"
      ],
      "execution_count": 0,
      "outputs": []
    },
    {
      "cell_type": "code",
      "metadata": {
        "id": "N_SXTCleyv32",
        "colab_type": "code",
        "outputId": "cc10c485-146c-4ad8-cd9b-9e0734be6a1a",
        "colab": {
          "base_uri": "https://localhost:8080/",
          "height": 34
        }
      },
      "source": [
        "answer"
      ],
      "execution_count": 0,
      "outputs": [
        {
          "output_type": "execute_result",
          "data": {
            "text/plain": [
              "<tf.Tensor 'concatenate_1/concat:0' shape=(?, 6, 220) dtype=float32>"
            ]
          },
          "metadata": {
            "tags": []
          },
          "execution_count": 51
        }
      ]
    },
    {
      "cell_type": "code",
      "metadata": {
        "id": "yb1ObBHYyv33",
        "colab_type": "code",
        "colab": {}
      },
      "source": [
        "# Reduce with RNN (LSTM)\n",
        "answer = LSTM(32)(answer)  # (samples, 32)"
      ],
      "execution_count": 0,
      "outputs": []
    },
    {
      "cell_type": "code",
      "metadata": {
        "id": "xieuliLcyv35",
        "colab_type": "code",
        "colab": {}
      },
      "source": [
        "# Regularization with Dropout\n",
        "answer = Dropout(0.5)(answer)\n",
        "answer = Dense(vocab_size)(answer)  # (samples, vocab_size)"
      ],
      "execution_count": 0,
      "outputs": []
    },
    {
      "cell_type": "code",
      "metadata": {
        "id": "GACZVk_tyv36",
        "colab_type": "code",
        "outputId": "a3c917cb-b2c5-4804-abbe-d99484cc1e7f",
        "colab": {
          "base_uri": "https://localhost:8080/",
          "height": 85
        }
      },
      "source": [
        "# we output a probability distribution over the vocabulary\n",
        "answer = Activation('softmax')(answer)\n",
        "\n",
        "# build the final model\n",
        "model = Model([input_sequence, question], answer)\n",
        "model.compile(optimizer='rmsprop', loss='categorical_crossentropy',\n",
        "              metrics=['accuracy'])"
      ],
      "execution_count": 0,
      "outputs": [
        {
          "output_type": "stream",
          "text": [
            "W0708 09:02:08.525392 140635252377472 deprecation_wrapper.py:119] From /usr/local/lib/python3.6/dist-packages/keras/optimizers.py:790: The name tf.train.Optimizer is deprecated. Please use tf.compat.v1.train.Optimizer instead.\n",
            "\n",
            "W0708 09:02:08.547636 140635252377472 deprecation_wrapper.py:119] From /usr/local/lib/python3.6/dist-packages/keras/backend/tensorflow_backend.py:3295: The name tf.log is deprecated. Please use tf.math.log instead.\n",
            "\n"
          ],
          "name": "stderr"
        }
      ]
    },
    {
      "cell_type": "code",
      "metadata": {
        "id": "JWtCm_LUyv37",
        "colab_type": "code",
        "outputId": "7bbfa48c-d762-49e9-f63c-928be6932e81",
        "colab": {
          "base_uri": "https://localhost:8080/",
          "height": 663
        }
      },
      "source": [
        "model.summary()"
      ],
      "execution_count": 0,
      "outputs": [
        {
          "output_type": "stream",
          "text": [
            "__________________________________________________________________________________________________\n",
            "Layer (type)                    Output Shape         Param #     Connected to                     \n",
            "==================================================================================================\n",
            "input_1 (InputLayer)            (None, 156)          0                                            \n",
            "__________________________________________________________________________________________________\n",
            "input_2 (InputLayer)            (None, 6)            0                                            \n",
            "__________________________________________________________________________________________________\n",
            "sequential_1 (Sequential)       multiple             2432        input_1[0][0]                    \n",
            "__________________________________________________________________________________________________\n",
            "sequential_3 (Sequential)       (None, 6, 64)        2432        input_2[0][0]                    \n",
            "__________________________________________________________________________________________________\n",
            "dot_1 (Dot)                     (None, 156, 6)       0           sequential_1[1][0]               \n",
            "                                                                 sequential_3[1][0]               \n",
            "__________________________________________________________________________________________________\n",
            "activation_1 (Activation)       (None, 156, 6)       0           dot_1[0][0]                      \n",
            "__________________________________________________________________________________________________\n",
            "sequential_2 (Sequential)       multiple             228         input_1[0][0]                    \n",
            "__________________________________________________________________________________________________\n",
            "add_1 (Add)                     (None, 156, 6)       0           activation_1[0][0]               \n",
            "                                                                 sequential_2[1][0]               \n",
            "__________________________________________________________________________________________________\n",
            "permute_1 (Permute)             (None, 6, 156)       0           add_1[0][0]                      \n",
            "__________________________________________________________________________________________________\n",
            "concatenate_1 (Concatenate)     (None, 6, 220)       0           permute_1[0][0]                  \n",
            "                                                                 sequential_3[1][0]               \n",
            "__________________________________________________________________________________________________\n",
            "lstm_1 (LSTM)                   (None, 32)           32384       concatenate_1[0][0]              \n",
            "__________________________________________________________________________________________________\n",
            "dropout_4 (Dropout)             (None, 32)           0           lstm_1[0][0]                     \n",
            "__________________________________________________________________________________________________\n",
            "dense_1 (Dense)                 (None, 38)           1254        dropout_4[0][0]                  \n",
            "__________________________________________________________________________________________________\n",
            "activation_2 (Activation)       (None, 38)           0           dense_1[0][0]                    \n",
            "==================================================================================================\n",
            "Total params: 38,730\n",
            "Trainable params: 38,730\n",
            "Non-trainable params: 0\n",
            "__________________________________________________________________________________________________\n"
          ],
          "name": "stdout"
        }
      ]
    },
    {
      "cell_type": "code",
      "metadata": {
        "id": "bqBUDZSYyv39",
        "colab_type": "code",
        "outputId": "df0a3525-f61c-472a-a18d-3fd7cae6314c",
        "colab": {
          "base_uri": "https://localhost:8080/",
          "height": 1000
        }
      },
      "source": [
        "# train\n",
        "history = model.fit([inputs_train, queries_train], answers_train,batch_size=32,epochs=120,validation_data=([inputs_test, queries_test], answers_test))"
      ],
      "execution_count": 0,
      "outputs": [
        {
          "output_type": "stream",
          "text": [
            "W0708 09:02:08.707439 140635252377472 deprecation.py:323] From /usr/local/lib/python3.6/dist-packages/tensorflow/python/ops/math_grad.py:1250: add_dispatch_support.<locals>.wrapper (from tensorflow.python.ops.array_ops) is deprecated and will be removed in a future version.\n",
            "Instructions for updating:\n",
            "Use tf.where in 2.0, which has the same broadcast rule as np.where\n"
          ],
          "name": "stderr"
        },
        {
          "output_type": "stream",
          "text": [
            "Train on 10000 samples, validate on 1000 samples\n",
            "Epoch 1/120\n",
            "10000/10000 [==============================] - 9s 896us/step - loss: 0.8804 - acc: 0.5013 - val_loss: 0.6941 - val_acc: 0.4970\n",
            "Epoch 2/120\n",
            "10000/10000 [==============================] - 5s 466us/step - loss: 0.7041 - acc: 0.4982 - val_loss: 0.6968 - val_acc: 0.4970\n",
            "Epoch 3/120\n",
            "10000/10000 [==============================] - 5s 469us/step - loss: 0.6966 - acc: 0.5020 - val_loss: 0.6935 - val_acc: 0.4970\n",
            "Epoch 4/120\n",
            "10000/10000 [==============================] - 5s 460us/step - loss: 0.6951 - acc: 0.5029 - val_loss: 0.6934 - val_acc: 0.4970\n",
            "Epoch 5/120\n",
            "10000/10000 [==============================] - 5s 468us/step - loss: 0.6946 - acc: 0.5001 - val_loss: 0.6937 - val_acc: 0.4970\n",
            "Epoch 6/120\n",
            "10000/10000 [==============================] - 5s 469us/step - loss: 0.6954 - acc: 0.4943 - val_loss: 0.6938 - val_acc: 0.4970\n",
            "Epoch 7/120\n",
            "10000/10000 [==============================] - 5s 456us/step - loss: 0.6943 - acc: 0.4967 - val_loss: 0.6933 - val_acc: 0.4880\n",
            "Epoch 8/120\n",
            "10000/10000 [==============================] - 5s 471us/step - loss: 0.6938 - acc: 0.5091 - val_loss: 0.6934 - val_acc: 0.4920\n",
            "Epoch 9/120\n",
            "10000/10000 [==============================] - 5s 462us/step - loss: 0.6935 - acc: 0.5039 - val_loss: 0.6936 - val_acc: 0.4780\n",
            "Epoch 10/120\n",
            "10000/10000 [==============================] - 5s 467us/step - loss: 0.6908 - acc: 0.5280 - val_loss: 0.6904 - val_acc: 0.5210\n",
            "Epoch 11/120\n",
            "10000/10000 [==============================] - 5s 474us/step - loss: 0.6764 - acc: 0.5683 - val_loss: 0.6516 - val_acc: 0.6530\n",
            "Epoch 12/120\n",
            "10000/10000 [==============================] - 5s 463us/step - loss: 0.6355 - acc: 0.6393 - val_loss: 0.6064 - val_acc: 0.6770\n",
            "Epoch 13/120\n",
            "10000/10000 [==============================] - 5s 475us/step - loss: 0.6069 - acc: 0.6778 - val_loss: 0.5783 - val_acc: 0.7100\n",
            "Epoch 14/120\n",
            "10000/10000 [==============================] - 5s 471us/step - loss: 0.5815 - acc: 0.7001 - val_loss: 0.5414 - val_acc: 0.7410\n",
            "Epoch 15/120\n",
            "10000/10000 [==============================] - 5s 466us/step - loss: 0.5556 - acc: 0.7239 - val_loss: 0.5209 - val_acc: 0.7540\n",
            "Epoch 16/120\n",
            "10000/10000 [==============================] - 5s 471us/step - loss: 0.5297 - acc: 0.7445 - val_loss: 0.4913 - val_acc: 0.7730\n",
            "Epoch 17/120\n",
            "10000/10000 [==============================] - 5s 465us/step - loss: 0.5118 - acc: 0.7600 - val_loss: 0.4791 - val_acc: 0.7730\n",
            "Epoch 18/120\n",
            "10000/10000 [==============================] - 5s 461us/step - loss: 0.4959 - acc: 0.7694 - val_loss: 0.4591 - val_acc: 0.7880\n",
            "Epoch 19/120\n",
            "10000/10000 [==============================] - 5s 462us/step - loss: 0.4843 - acc: 0.7783 - val_loss: 0.4765 - val_acc: 0.7870\n",
            "Epoch 20/120\n",
            "10000/10000 [==============================] - 5s 462us/step - loss: 0.4705 - acc: 0.7858 - val_loss: 0.4440 - val_acc: 0.8010\n",
            "Epoch 21/120\n",
            "10000/10000 [==============================] - 5s 467us/step - loss: 0.4538 - acc: 0.7986 - val_loss: 0.4342 - val_acc: 0.8080\n",
            "Epoch 22/120\n",
            "10000/10000 [==============================] - 5s 461us/step - loss: 0.4484 - acc: 0.7967 - val_loss: 0.4344 - val_acc: 0.8020\n",
            "Epoch 23/120\n",
            "10000/10000 [==============================] - 5s 464us/step - loss: 0.4355 - acc: 0.8020 - val_loss: 0.4309 - val_acc: 0.8060\n",
            "Epoch 24/120\n",
            "10000/10000 [==============================] - 5s 465us/step - loss: 0.4262 - acc: 0.8045 - val_loss: 0.4204 - val_acc: 0.8080\n",
            "Epoch 25/120\n",
            "10000/10000 [==============================] - 5s 463us/step - loss: 0.4219 - acc: 0.8082 - val_loss: 0.4246 - val_acc: 0.8070\n",
            "Epoch 26/120\n",
            "10000/10000 [==============================] - 5s 463us/step - loss: 0.4177 - acc: 0.8108 - val_loss: 0.4185 - val_acc: 0.7940\n",
            "Epoch 27/120\n",
            "10000/10000 [==============================] - 5s 465us/step - loss: 0.4076 - acc: 0.8130 - val_loss: 0.4146 - val_acc: 0.8040\n",
            "Epoch 28/120\n",
            "10000/10000 [==============================] - 5s 466us/step - loss: 0.4018 - acc: 0.8152 - val_loss: 0.4220 - val_acc: 0.8060\n",
            "Epoch 29/120\n",
            "10000/10000 [==============================] - 5s 463us/step - loss: 0.3993 - acc: 0.8153 - val_loss: 0.4118 - val_acc: 0.8010\n",
            "Epoch 30/120\n",
            "10000/10000 [==============================] - 5s 461us/step - loss: 0.3972 - acc: 0.8162 - val_loss: 0.4144 - val_acc: 0.8090\n",
            "Epoch 31/120\n",
            "10000/10000 [==============================] - 5s 462us/step - loss: 0.3971 - acc: 0.8168 - val_loss: 0.4130 - val_acc: 0.8170\n",
            "Epoch 32/120\n",
            "10000/10000 [==============================] - 5s 461us/step - loss: 0.3937 - acc: 0.8173 - val_loss: 0.4116 - val_acc: 0.8060\n",
            "Epoch 33/120\n",
            "10000/10000 [==============================] - 5s 458us/step - loss: 0.3871 - acc: 0.8236 - val_loss: 0.4118 - val_acc: 0.8040\n",
            "Epoch 34/120\n",
            "10000/10000 [==============================] - 5s 466us/step - loss: 0.3857 - acc: 0.8211 - val_loss: 0.4022 - val_acc: 0.7870\n",
            "Epoch 35/120\n",
            "10000/10000 [==============================] - 5s 457us/step - loss: 0.3799 - acc: 0.8231 - val_loss: 0.4017 - val_acc: 0.8020\n",
            "Epoch 36/120\n",
            "10000/10000 [==============================] - 5s 455us/step - loss: 0.3786 - acc: 0.8237 - val_loss: 0.4022 - val_acc: 0.8100\n",
            "Epoch 37/120\n",
            "10000/10000 [==============================] - 5s 453us/step - loss: 0.3774 - acc: 0.8287 - val_loss: 0.4022 - val_acc: 0.8080\n",
            "Epoch 38/120\n",
            "10000/10000 [==============================] - 5s 453us/step - loss: 0.3724 - acc: 0.8306 - val_loss: 0.3959 - val_acc: 0.8200\n",
            "Epoch 39/120\n",
            "10000/10000 [==============================] - 5s 456us/step - loss: 0.3677 - acc: 0.8348 - val_loss: 0.3940 - val_acc: 0.8170\n",
            "Epoch 40/120\n",
            "10000/10000 [==============================] - 5s 460us/step - loss: 0.3569 - acc: 0.8400 - val_loss: 0.3698 - val_acc: 0.8330\n",
            "Epoch 41/120\n",
            "10000/10000 [==============================] - 5s 462us/step - loss: 0.3511 - acc: 0.8465 - val_loss: 0.3832 - val_acc: 0.8310\n",
            "Epoch 42/120\n",
            "10000/10000 [==============================] - 5s 459us/step - loss: 0.3513 - acc: 0.8453 - val_loss: 0.3699 - val_acc: 0.8260\n",
            "Epoch 43/120\n",
            "10000/10000 [==============================] - 5s 455us/step - loss: 0.3429 - acc: 0.8494 - val_loss: 0.3666 - val_acc: 0.8260\n",
            "Epoch 44/120\n",
            "10000/10000 [==============================] - 5s 453us/step - loss: 0.3372 - acc: 0.8529 - val_loss: 0.3619 - val_acc: 0.8320\n",
            "Epoch 45/120\n",
            "10000/10000 [==============================] - 5s 465us/step - loss: 0.3411 - acc: 0.8515 - val_loss: 0.3792 - val_acc: 0.8390\n",
            "Epoch 46/120\n",
            "10000/10000 [==============================] - 5s 454us/step - loss: 0.3343 - acc: 0.8537 - val_loss: 0.3736 - val_acc: 0.8410\n",
            "Epoch 47/120\n",
            "10000/10000 [==============================] - 5s 464us/step - loss: 0.3261 - acc: 0.8570 - val_loss: 0.3808 - val_acc: 0.8370\n",
            "Epoch 48/120\n",
            "10000/10000 [==============================] - 5s 476us/step - loss: 0.3295 - acc: 0.8608 - val_loss: 0.3547 - val_acc: 0.8400\n",
            "Epoch 49/120\n",
            "10000/10000 [==============================] - 5s 472us/step - loss: 0.3267 - acc: 0.8597 - val_loss: 0.3732 - val_acc: 0.8430\n",
            "Epoch 50/120\n",
            "10000/10000 [==============================] - 5s 465us/step - loss: 0.3259 - acc: 0.8586 - val_loss: 0.3616 - val_acc: 0.8360\n",
            "Epoch 51/120\n",
            "10000/10000 [==============================] - 5s 464us/step - loss: 0.3222 - acc: 0.8628 - val_loss: 0.3684 - val_acc: 0.8370\n",
            "Epoch 52/120\n",
            "10000/10000 [==============================] - 5s 457us/step - loss: 0.3209 - acc: 0.8591 - val_loss: 0.3741 - val_acc: 0.8420\n",
            "Epoch 53/120\n",
            "10000/10000 [==============================] - 5s 460us/step - loss: 0.3157 - acc: 0.8660 - val_loss: 0.3619 - val_acc: 0.8420\n",
            "Epoch 54/120\n",
            "10000/10000 [==============================] - 5s 458us/step - loss: 0.3120 - acc: 0.8649 - val_loss: 0.3866 - val_acc: 0.8420\n",
            "Epoch 55/120\n",
            "10000/10000 [==============================] - 5s 458us/step - loss: 0.3147 - acc: 0.8669 - val_loss: 0.3706 - val_acc: 0.8390\n",
            "Epoch 56/120\n",
            "10000/10000 [==============================] - 5s 455us/step - loss: 0.3126 - acc: 0.8674 - val_loss: 0.3628 - val_acc: 0.8380\n",
            "Epoch 57/120\n",
            "10000/10000 [==============================] - 5s 456us/step - loss: 0.3130 - acc: 0.8661 - val_loss: 0.3620 - val_acc: 0.8420\n",
            "Epoch 58/120\n",
            "10000/10000 [==============================] - 5s 452us/step - loss: 0.3088 - acc: 0.8659 - val_loss: 0.3704 - val_acc: 0.8380\n",
            "Epoch 59/120\n",
            "10000/10000 [==============================] - 5s 452us/step - loss: 0.3108 - acc: 0.8639 - val_loss: 0.3765 - val_acc: 0.8400\n",
            "Epoch 60/120\n",
            "10000/10000 [==============================] - 5s 464us/step - loss: 0.3071 - acc: 0.8702 - val_loss: 0.3944 - val_acc: 0.8360\n",
            "Epoch 61/120\n",
            "10000/10000 [==============================] - 5s 453us/step - loss: 0.2993 - acc: 0.8723 - val_loss: 0.3763 - val_acc: 0.8370\n",
            "Epoch 62/120\n",
            "10000/10000 [==============================] - 5s 454us/step - loss: 0.3050 - acc: 0.8699 - val_loss: 0.3810 - val_acc: 0.8400\n",
            "Epoch 63/120\n",
            "10000/10000 [==============================] - 5s 457us/step - loss: 0.3013 - acc: 0.8698 - val_loss: 0.3896 - val_acc: 0.8310\n",
            "Epoch 64/120\n",
            "10000/10000 [==============================] - 5s 454us/step - loss: 0.2940 - acc: 0.8722 - val_loss: 0.4166 - val_acc: 0.8340\n",
            "Epoch 65/120\n",
            "10000/10000 [==============================] - 5s 456us/step - loss: 0.2978 - acc: 0.8727 - val_loss: 0.3830 - val_acc: 0.8390\n",
            "Epoch 66/120\n",
            "10000/10000 [==============================] - 5s 456us/step - loss: 0.2969 - acc: 0.8717 - val_loss: 0.3702 - val_acc: 0.8250\n",
            "Epoch 67/120\n",
            "10000/10000 [==============================] - 5s 464us/step - loss: 0.2929 - acc: 0.8728 - val_loss: 0.3698 - val_acc: 0.8370\n",
            "Epoch 68/120\n",
            "10000/10000 [==============================] - 5s 458us/step - loss: 0.2911 - acc: 0.8743 - val_loss: 0.3749 - val_acc: 0.8320\n",
            "Epoch 69/120\n",
            "10000/10000 [==============================] - 5s 461us/step - loss: 0.2897 - acc: 0.8762 - val_loss: 0.3793 - val_acc: 0.8280\n",
            "Epoch 70/120\n",
            "10000/10000 [==============================] - 5s 455us/step - loss: 0.2848 - acc: 0.8764 - val_loss: 0.3940 - val_acc: 0.8310\n",
            "Epoch 71/120\n",
            "10000/10000 [==============================] - 5s 452us/step - loss: 0.2827 - acc: 0.8779 - val_loss: 0.3896 - val_acc: 0.8270\n",
            "Epoch 72/120\n",
            "10000/10000 [==============================] - 5s 451us/step - loss: 0.2871 - acc: 0.8743 - val_loss: 0.4020 - val_acc: 0.8310\n",
            "Epoch 73/120\n",
            "10000/10000 [==============================] - 5s 464us/step - loss: 0.2811 - acc: 0.8780 - val_loss: 0.4050 - val_acc: 0.8250\n",
            "Epoch 74/120\n",
            "10000/10000 [==============================] - 5s 455us/step - loss: 0.2822 - acc: 0.8815 - val_loss: 0.3932 - val_acc: 0.8340\n",
            "Epoch 75/120\n",
            "10000/10000 [==============================] - 5s 455us/step - loss: 0.2823 - acc: 0.8784 - val_loss: 0.3971 - val_acc: 0.8190\n",
            "Epoch 76/120\n",
            "10000/10000 [==============================] - 5s 456us/step - loss: 0.2731 - acc: 0.8826 - val_loss: 0.3997 - val_acc: 0.8260\n",
            "Epoch 77/120\n",
            "10000/10000 [==============================] - 5s 456us/step - loss: 0.2769 - acc: 0.8800 - val_loss: 0.3921 - val_acc: 0.8290\n",
            "Epoch 78/120\n",
            "10000/10000 [==============================] - 5s 462us/step - loss: 0.2767 - acc: 0.8824 - val_loss: 0.4114 - val_acc: 0.8250\n",
            "Epoch 79/120\n",
            "10000/10000 [==============================] - 5s 457us/step - loss: 0.2707 - acc: 0.8854 - val_loss: 0.4396 - val_acc: 0.8360\n",
            "Epoch 80/120\n",
            "10000/10000 [==============================] - 5s 462us/step - loss: 0.2712 - acc: 0.8860 - val_loss: 0.4113 - val_acc: 0.8300\n",
            "Epoch 81/120\n",
            "10000/10000 [==============================] - 5s 464us/step - loss: 0.2752 - acc: 0.8861 - val_loss: 0.4375 - val_acc: 0.8260\n",
            "Epoch 82/120\n",
            "10000/10000 [==============================] - 5s 457us/step - loss: 0.2714 - acc: 0.8864 - val_loss: 0.4287 - val_acc: 0.8190\n",
            "Epoch 83/120\n",
            "10000/10000 [==============================] - 5s 455us/step - loss: 0.2705 - acc: 0.8826 - val_loss: 0.4405 - val_acc: 0.8270\n",
            "Epoch 84/120\n",
            "10000/10000 [==============================] - 5s 471us/step - loss: 0.2734 - acc: 0.8823 - val_loss: 0.4219 - val_acc: 0.8360\n",
            "Epoch 85/120\n",
            "10000/10000 [==============================] - 5s 452us/step - loss: 0.2687 - acc: 0.8863 - val_loss: 0.4103 - val_acc: 0.8190\n",
            "Epoch 86/120\n",
            "10000/10000 [==============================] - 5s 454us/step - loss: 0.2707 - acc: 0.8859 - val_loss: 0.4131 - val_acc: 0.8250\n",
            "Epoch 87/120\n",
            "10000/10000 [==============================] - 5s 455us/step - loss: 0.2641 - acc: 0.8880 - val_loss: 0.4207 - val_acc: 0.8310\n",
            "Epoch 88/120\n",
            "10000/10000 [==============================] - 5s 452us/step - loss: 0.2640 - acc: 0.8867 - val_loss: 0.4561 - val_acc: 0.8200\n",
            "Epoch 89/120\n",
            "10000/10000 [==============================] - 5s 452us/step - loss: 0.2624 - acc: 0.8880 - val_loss: 0.4243 - val_acc: 0.8240\n",
            "Epoch 90/120\n",
            "10000/10000 [==============================] - 5s 454us/step - loss: 0.2581 - acc: 0.8934 - val_loss: 0.4831 - val_acc: 0.8250\n",
            "Epoch 91/120\n",
            "10000/10000 [==============================] - 4s 450us/step - loss: 0.2597 - acc: 0.8902 - val_loss: 0.4395 - val_acc: 0.8300\n",
            "Epoch 92/120\n",
            "10000/10000 [==============================] - 5s 455us/step - loss: 0.2559 - acc: 0.8940 - val_loss: 0.4305 - val_acc: 0.8230\n",
            "Epoch 93/120\n",
            "10000/10000 [==============================] - 5s 454us/step - loss: 0.2590 - acc: 0.8920 - val_loss: 0.4593 - val_acc: 0.8360\n",
            "Epoch 94/120\n",
            "10000/10000 [==============================] - 5s 457us/step - loss: 0.2549 - acc: 0.8961 - val_loss: 0.4575 - val_acc: 0.8260\n",
            "Epoch 95/120\n",
            "10000/10000 [==============================] - 5s 452us/step - loss: 0.2553 - acc: 0.8917 - val_loss: 0.4465 - val_acc: 0.8330\n",
            "Epoch 96/120\n",
            "10000/10000 [==============================] - 5s 459us/step - loss: 0.2605 - acc: 0.8904 - val_loss: 0.4350 - val_acc: 0.8300\n",
            "Epoch 97/120\n",
            "10000/10000 [==============================] - 5s 451us/step - loss: 0.2491 - acc: 0.8936 - val_loss: 0.4641 - val_acc: 0.8280\n",
            "Epoch 98/120\n",
            "10000/10000 [==============================] - 5s 453us/step - loss: 0.2468 - acc: 0.8945 - val_loss: 0.4957 - val_acc: 0.8300\n",
            "Epoch 99/120\n",
            "10000/10000 [==============================] - 5s 454us/step - loss: 0.2456 - acc: 0.8937 - val_loss: 0.4814 - val_acc: 0.8250\n",
            "Epoch 100/120\n",
            "10000/10000 [==============================] - 5s 460us/step - loss: 0.2511 - acc: 0.8953 - val_loss: 0.4663 - val_acc: 0.8270\n",
            "Epoch 101/120\n",
            "10000/10000 [==============================] - 5s 464us/step - loss: 0.2512 - acc: 0.8953 - val_loss: 0.4734 - val_acc: 0.8170\n",
            "Epoch 102/120\n",
            "10000/10000 [==============================] - 5s 456us/step - loss: 0.2438 - acc: 0.8979 - val_loss: 0.4800 - val_acc: 0.8280\n",
            "Epoch 103/120\n",
            "10000/10000 [==============================] - 5s 457us/step - loss: 0.2525 - acc: 0.8971 - val_loss: 0.4706 - val_acc: 0.8280\n",
            "Epoch 104/120\n",
            "10000/10000 [==============================] - 5s 454us/step - loss: 0.2500 - acc: 0.8952 - val_loss: 0.4889 - val_acc: 0.8230\n",
            "Epoch 105/120\n",
            "10000/10000 [==============================] - 5s 456us/step - loss: 0.2414 - acc: 0.8981 - val_loss: 0.4708 - val_acc: 0.8260\n",
            "Epoch 106/120\n",
            "10000/10000 [==============================] - 5s 453us/step - loss: 0.2458 - acc: 0.8934 - val_loss: 0.4909 - val_acc: 0.8250\n",
            "Epoch 107/120\n",
            "10000/10000 [==============================] - 5s 465us/step - loss: 0.2381 - acc: 0.8981 - val_loss: 0.5155 - val_acc: 0.8320\n",
            "Epoch 108/120\n",
            "10000/10000 [==============================] - 4s 450us/step - loss: 0.2365 - acc: 0.9018 - val_loss: 0.4959 - val_acc: 0.8260\n",
            "Epoch 109/120\n",
            "10000/10000 [==============================] - 5s 456us/step - loss: 0.2393 - acc: 0.8991 - val_loss: 0.4811 - val_acc: 0.8230\n",
            "Epoch 110/120\n",
            "10000/10000 [==============================] - 5s 456us/step - loss: 0.2442 - acc: 0.8971 - val_loss: 0.4721 - val_acc: 0.8210\n",
            "Epoch 111/120\n",
            "10000/10000 [==============================] - 4s 450us/step - loss: 0.2365 - acc: 0.8986 - val_loss: 0.4778 - val_acc: 0.8360\n",
            "Epoch 112/120\n",
            "10000/10000 [==============================] - 5s 454us/step - loss: 0.2367 - acc: 0.9012 - val_loss: 0.4979 - val_acc: 0.8240\n",
            "Epoch 113/120\n",
            "10000/10000 [==============================] - 5s 453us/step - loss: 0.2388 - acc: 0.8991 - val_loss: 0.4692 - val_acc: 0.8240\n",
            "Epoch 114/120\n",
            "10000/10000 [==============================] - 5s 462us/step - loss: 0.2346 - acc: 0.9005 - val_loss: 0.5030 - val_acc: 0.8260\n",
            "Epoch 115/120\n",
            "10000/10000 [==============================] - 5s 469us/step - loss: 0.2331 - acc: 0.9002 - val_loss: 0.5143 - val_acc: 0.8340\n",
            "Epoch 116/120\n",
            "10000/10000 [==============================] - 5s 468us/step - loss: 0.2293 - acc: 0.9018 - val_loss: 0.5025 - val_acc: 0.8150\n",
            "Epoch 117/120\n",
            "10000/10000 [==============================] - 5s 470us/step - loss: 0.2296 - acc: 0.9047 - val_loss: 0.4886 - val_acc: 0.8080\n",
            "Epoch 118/120\n",
            "10000/10000 [==============================] - 5s 467us/step - loss: 0.2263 - acc: 0.9064 - val_loss: 0.5204 - val_acc: 0.8100\n",
            "Epoch 119/120\n",
            "10000/10000 [==============================] - 5s 461us/step - loss: 0.2281 - acc: 0.9069 - val_loss: 0.5225 - val_acc: 0.8200\n",
            "Epoch 120/120\n",
            "10000/10000 [==============================] - 5s 464us/step - loss: 0.2232 - acc: 0.9045 - val_loss: 0.5558 - val_acc: 0.8210\n"
          ],
          "name": "stdout"
        }
      ]
    },
    {
      "cell_type": "markdown",
      "metadata": {
        "id": "XYKJ5IvPyv3-",
        "colab_type": "text"
      },
      "source": [
        "### Saving the Model"
      ]
    },
    {
      "cell_type": "code",
      "metadata": {
        "id": "TxnrPx4Ryv3-",
        "colab_type": "code",
        "colab": {}
      },
      "source": [
        "filename = 'chatbot_120_epochs.h5'\n",
        "model.save(filename)"
      ],
      "execution_count": 0,
      "outputs": []
    },
    {
      "cell_type": "markdown",
      "metadata": {
        "id": "KVa_PTrQyv3_",
        "colab_type": "text"
      },
      "source": [
        "## Evaluating the Model\n",
        "\n",
        "### Plotting Out Training History"
      ]
    },
    {
      "cell_type": "code",
      "metadata": {
        "id": "0iCZcBKIyv3_",
        "colab_type": "code",
        "outputId": "fc22057f-ce75-4811-fb23-4bf74d1ce1c2",
        "colab": {
          "base_uri": "https://localhost:8080/",
          "height": 312
        }
      },
      "source": [
        "import matplotlib.pyplot as plt\n",
        "%matplotlib inline\n",
        "print(history.history.keys())\n",
        "# summarize history for accuracy\n",
        "plt.plot(history.history['acc'])\n",
        "plt.plot(history.history['val_acc'])\n",
        "plt.title('Model Accuracy')\n",
        "plt.ylabel('Accuracy')\n",
        "plt.xlabel('Epoch')\n",
        "plt.legend(['train', 'test'], loc='upper left')\n",
        "plt.show()"
      ],
      "execution_count": 0,
      "outputs": [
        {
          "output_type": "stream",
          "text": [
            "dict_keys(['val_loss', 'val_acc', 'loss', 'acc'])\n"
          ],
          "name": "stdout"
        },
        {
          "output_type": "display_data",
          "data": {
            "image/png": "[encoded data removed]",
            "text/plain": [
              "<Figure size 432x288 with 1 Axes>"
            ]
          },
          "metadata": {
            "tags": []
          }
        }
      ]
    },
    {
      "cell_type": "markdown",
      "metadata": {
        "id": "NY-63a4Cyv4B",
        "colab_type": "text"
      },
      "source": [
        "### Evaluating on Given Test Set"
      ]
    },
    {
      "cell_type": "code",
      "metadata": {
        "id": "ts10Pde4yv4B",
        "colab_type": "code",
        "colab": {}
      },
      "source": [
        "model.load_weights(filename)\n",
        "pred_results = model.predict(([inputs_test, queries_test]))"
      ],
      "execution_count": 0,
      "outputs": []
    },
    {
      "cell_type": "code",
      "metadata": {
        "id": "hNZ7hE33yv4C",
        "colab_type": "code",
        "outputId": "c681d17d-a375-4063-b9be-ddd0f326ea4d",
        "colab": {
          "base_uri": "https://localhost:8080/",
          "height": 221
        }
      },
      "source": [
        "test_data[0][0]"
      ],
      "execution_count": 0,
      "outputs": [
        {
          "output_type": "execute_result",
          "data": {
            "text/plain": [
              "['Mary',\n",
              " 'got',\n",
              " 'the',\n",
              " 'milk',\n",
              " 'there',\n",
              " '.',\n",
              " 'John',\n",
              " 'moved',\n",
              " 'to',\n",
              " 'the',\n",
              " 'bedroom',\n",
              " '.']"
            ]
          },
          "metadata": {
            "tags": []
          },
          "execution_count": 79
        }
      ]
    },
    {
      "cell_type": "code",
      "metadata": {
        "id": "-WErHqjXyv4E",
        "colab_type": "code",
        "outputId": "67a7fd2f-2bee-439a-edc1-63a161804ed4",
        "colab": {
          "base_uri": "https://localhost:8080/",
          "height": 34
        }
      },
      "source": [
        "story =' '.join(word for word in test_data[0][0])\n",
        "print(story)"
      ],
      "execution_count": 0,
      "outputs": [
        {
          "output_type": "stream",
          "text": [
            "Mary got the milk there . John moved to the bedroom .\n"
          ],
          "name": "stdout"
        }
      ]
    },
    {
      "cell_type": "code",
      "metadata": {
        "id": "nz4pGtmHyv4F",
        "colab_type": "code",
        "outputId": "c0d21ab7-cc50-4357-a789-b1a4122f2f11",
        "colab": {
          "base_uri": "https://localhost:8080/",
          "height": 34
        }
      },
      "source": [
        "query = ' '.join(word for word in test_data[0][1])\n",
        "print(query)"
      ],
      "execution_count": 0,
      "outputs": [
        {
          "output_type": "stream",
          "text": [
            "Is John in the kitchen ?\n"
          ],
          "name": "stdout"
        }
      ]
    },
    {
      "cell_type": "code",
      "metadata": {
        "id": "BskbuU_fyv4G",
        "colab_type": "code",
        "outputId": "3ea90f0f-1af8-44c2-a436-a5ed563b4f86",
        "colab": {
          "base_uri": "https://localhost:8080/",
          "height": 34
        }
      },
      "source": [
        "print(\"True Test Answer from Data is:\",test_data[0][2])"
      ],
      "execution_count": 0,
      "outputs": [
        {
          "output_type": "stream",
          "text": [
            "True Test Answer from Data is: no\n"
          ],
          "name": "stdout"
        }
      ]
    },
    {
      "cell_type": "code",
      "metadata": {
        "id": "iIgdL2Q2yv4H",
        "colab_type": "code",
        "outputId": "4d049a57-34ee-4631-d695-c1a2ff76ee47",
        "colab": {
          "base_uri": "https://localhost:8080/",
          "height": 51
        }
      },
      "source": [
        "#Generate prediction from model\n",
        "val_max = np.argmax(pred_results[0])\n",
        "\n",
        "for key, val in tokenizer.word_index.items():\n",
        "    if val == val_max:\n",
        "        k = key\n",
        "\n",
        "print(\"Predicted answer is: \", k)\n",
        "print(\"Probability of certainty was: \", pred_results[0][val_max])"
      ],
      "execution_count": 0,
      "outputs": [
        {
          "output_type": "stream",
          "text": [
            "Predicted answer is:  no\n",
            "Probability of certainty was:  0.9998808\n"
          ],
          "name": "stdout"
        }
      ]
    },
    {
      "cell_type": "markdown",
      "metadata": {
        "id": "0wz1MsSJyv4J",
        "colab_type": "text"
      },
      "source": [
        "## Writing Your Own Stories and Questions\n",
        "\n",
        "Remember you can only use words from the existing vocab"
      ]
    },
    {
      "cell_type": "code",
      "metadata": {
        "id": "5EdXqJVXyv4J",
        "colab_type": "code",
        "outputId": "0443197e-0e0d-4ca8-9dd1-8b365283c119",
        "colab": {
          "base_uri": "https://localhost:8080/",
          "height": 34
        }
      },
      "source": [
        "vocab"
      ],
      "execution_count": 0,
      "outputs": [
        {
          "output_type": "execute_result",
          "data": {
            "text/plain": [
              "set()"
            ]
          },
          "metadata": {
            "tags": []
          },
          "execution_count": 85
        }
      ]
    },
    {
      "cell_type": "code",
      "metadata": {
        "id": "R7lTe9Kfyv4L",
        "colab_type": "code",
        "outputId": "93599838-07b5-4beb-9d45-5617c0e3e1ae",
        "colab": {
          "base_uri": "https://localhost:8080/",
          "height": 238
        }
      },
      "source": [
        "# Note the whitespace of the periods\n",
        "my_story = \"John left the kitchen . Sandra dropped the football in the garden .\"\n",
        "my_story.split()"
      ],
      "execution_count": 0,
      "outputs": [
        {
          "output_type": "execute_result",
          "data": {
            "text/plain": [
              "['John',\n",
              " 'left',\n",
              " 'the',\n",
              " 'kitchen',\n",
              " '.',\n",
              " 'Sandra',\n",
              " 'dropped',\n",
              " 'the',\n",
              " 'football',\n",
              " 'in',\n",
              " 'the',\n",
              " 'garden',\n",
              " '.']"
            ]
          },
          "metadata": {
            "tags": []
          },
          "execution_count": 86
        }
      ]
    },
    {
      "cell_type": "code",
      "metadata": {
        "id": "oGSI6cIryv4N",
        "colab_type": "code",
        "colab": {}
      },
      "source": [
        "my_question = \"Is the football in the garden ?\""
      ],
      "execution_count": 0,
      "outputs": []
    },
    {
      "cell_type": "code",
      "metadata": {
        "id": "hdCPCCkKyv4O",
        "colab_type": "code",
        "outputId": "cbb442e2-00dd-41b7-b1bb-75335881ab42",
        "colab": {
          "base_uri": "https://localhost:8080/",
          "height": 34
        }
      },
      "source": [
        "my_question.split()"
      ],
      "execution_count": 0,
      "outputs": [
        {
          "output_type": "execute_result",
          "data": {
            "text/plain": [
              "['Is', 'the', 'football', 'in', 'the', 'garden', '?']"
            ]
          },
          "metadata": {
            "tags": []
          },
          "execution_count": 88
        }
      ]
    },
    {
      "cell_type": "code",
      "metadata": {
        "id": "4nyAcLmYyv4Q",
        "colab_type": "code",
        "colab": {}
      },
      "source": [
        "mydata = [(my_story.split(),my_question.split(),'yes')]"
      ],
      "execution_count": 0,
      "outputs": []
    },
    {
      "cell_type": "code",
      "metadata": {
        "id": "n24vkhRpyv4S",
        "colab_type": "code",
        "colab": {}
      },
      "source": [
        "my_story,my_ques,my_ans = vectorize_stories(mydata)"
      ],
      "execution_count": 0,
      "outputs": []
    },
    {
      "cell_type": "code",
      "metadata": {
        "id": "8vTJ74mYyv4T",
        "colab_type": "code",
        "colab": {}
      },
      "source": [
        "pred_results = model.predict(([ my_story, my_ques]))"
      ],
      "execution_count": 0,
      "outputs": []
    },
    {
      "cell_type": "code",
      "metadata": {
        "id": "mnzqa23Jyv4U",
        "colab_type": "code",
        "outputId": "00e01175-1d63-4a5f-8c7c-d27b1e11438d",
        "colab": {
          "base_uri": "https://localhost:8080/",
          "height": 51
        }
      },
      "source": [
        "#Generate prediction from model\n",
        "val_max = np.argmax(pred_results[0])\n",
        "\n",
        "for key, val in tokenizer.word_index.items():\n",
        "    if val == val_max:\n",
        "        k = key\n",
        "\n",
        "print(\"Predicted answer is: \", k)\n",
        "print(\"Probability of certainty was: \", pred_results[0][val_max])"
      ],
      "execution_count": 0,
      "outputs": [
        {
          "output_type": "stream",
          "text": [
            "Predicted answer is:  yes\n",
            "Probability of certainty was:  0.9461096\n"
          ],
          "name": "stdout"
        }
      ]
    },
    {
      "cell_type": "markdown",
      "metadata": {
        "id": "Q8rT7B0-yv4W",
        "colab_type": "text"
      },
      "source": [
        "# Great Job!"
      ]
    }
  ]
}